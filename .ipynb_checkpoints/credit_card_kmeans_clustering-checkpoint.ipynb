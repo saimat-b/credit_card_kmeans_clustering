{
 "cells": [
  {
   "cell_type": "markdown",
   "id": "9be1feed",
   "metadata": {},
   "source": [
    "# Credit Card Clustering\n",
    "\n",
    "*Saimat Balabekova*\n",
    "<img src=\"https://media.istockphoto.com/photos/stacked-credit-cards-picture-id1203763961?k=20&m=1203763961&s=612x612&w=0&h=mrFgkoWWVdp0mtt_vw6OTEZCSjw3bUYhuJt5QWVdkXo=\" width=\"300\" height=\"auto\" style=\"border-radius:50%\">\n",
    "\n",
    "<div style=\"text-align: justify\"> In this Jupyter Notebook I will attempt to use *K-Means Clustering* algorithm from Scikit-Learn package in Python on the Credit Card Dataset I have found on Kaggle. This dataset contains information about active 9000 credit card holders during the 6 month period. It is moderately large and requires some cleaning. After cleaning the data I will try to cluster customers with accounts that have similar Balance to Credit Limit ratio. These clusters will then inform the email marketing capaign of the bank by tailoring dircet communication with customers to the state of their accounts.\n",
    "\n",
    "**Obejctive:**To create clusters of customers based on the balance to credit limit ratio in their accounts for the purposes of an email marketing campaign. </div>  "
   ]
  },
  {
   "cell_type": "markdown",
   "id": "e645b0ac",
   "metadata": {},
   "source": [
    "Below are the libraries needed for this project:"
   ]
  },
  {
   "cell_type": "code",
   "execution_count": 4,
   "id": "a6916f48",
   "metadata": {},
   "outputs": [],
   "source": [
    "import numpy as np \n",
    "import pandas as pd \n",
    "import matplotlib.pyplot as plt \n",
    "from sklearn.preprocessing import StandardScaler, normalize\n",
    "from sklearn.cluster import KMeans "
   ]
  },
  {
   "cell_type": "markdown",
   "id": "33fb6fd3",
   "metadata": {},
   "source": [
    "## Credit Card Dataset Overview"
   ]
  },
  {
   "cell_type": "markdown",
   "id": "97db781e",
   "metadata": {},
   "source": [
    "Lets begin by importing the Credit Card Dataset and have a general idea of what it looks like:"
   ]
  },
  {
   "cell_type": "code",
   "execution_count": 26,
   "id": "c5f830a8",
   "metadata": {},
   "outputs": [
    {
     "data": {
      "text/html": [
       "<div>\n",
       "<style scoped>\n",
       "    .dataframe tbody tr th:only-of-type {\n",
       "        vertical-align: middle;\n",
       "    }\n",
       "\n",
       "    .dataframe tbody tr th {\n",
       "        vertical-align: top;\n",
       "    }\n",
       "\n",
       "    .dataframe thead th {\n",
       "        text-align: right;\n",
       "    }\n",
       "</style>\n",
       "<table border=\"1\" class=\"dataframe\">\n",
       "  <thead>\n",
       "    <tr style=\"text-align: right;\">\n",
       "      <th></th>\n",
       "      <th>CUST_ID</th>\n",
       "      <th>BALANCE</th>\n",
       "      <th>BALANCE_FREQUENCY</th>\n",
       "      <th>PURCHASES</th>\n",
       "      <th>ONEOFF_PURCHASES</th>\n",
       "      <th>INSTALLMENTS_PURCHASES</th>\n",
       "      <th>CASH_ADVANCE</th>\n",
       "      <th>PURCHASES_FREQUENCY</th>\n",
       "      <th>ONEOFF_PURCHASES_FREQUENCY</th>\n",
       "      <th>PURCHASES_INSTALLMENTS_FREQUENCY</th>\n",
       "      <th>CASH_ADVANCE_FREQUENCY</th>\n",
       "      <th>CASH_ADVANCE_TRX</th>\n",
       "      <th>PURCHASES_TRX</th>\n",
       "      <th>CREDIT_LIMIT</th>\n",
       "      <th>PAYMENTS</th>\n",
       "      <th>MINIMUM_PAYMENTS</th>\n",
       "      <th>PRC_FULL_PAYMENT</th>\n",
       "      <th>TENURE</th>\n",
       "    </tr>\n",
       "  </thead>\n",
       "  <tbody>\n",
       "    <tr>\n",
       "      <th>0</th>\n",
       "      <td>C10001</td>\n",
       "      <td>40.900749</td>\n",
       "      <td>0.818182</td>\n",
       "      <td>95.40</td>\n",
       "      <td>0.00</td>\n",
       "      <td>95.4</td>\n",
       "      <td>0.000000</td>\n",
       "      <td>0.166667</td>\n",
       "      <td>0.000000</td>\n",
       "      <td>0.083333</td>\n",
       "      <td>0.000000</td>\n",
       "      <td>0</td>\n",
       "      <td>2</td>\n",
       "      <td>1000.0</td>\n",
       "      <td>201.802084</td>\n",
       "      <td>139.509787</td>\n",
       "      <td>0.000000</td>\n",
       "      <td>12</td>\n",
       "    </tr>\n",
       "    <tr>\n",
       "      <th>1</th>\n",
       "      <td>C10002</td>\n",
       "      <td>3202.467416</td>\n",
       "      <td>0.909091</td>\n",
       "      <td>0.00</td>\n",
       "      <td>0.00</td>\n",
       "      <td>0.0</td>\n",
       "      <td>6442.945483</td>\n",
       "      <td>0.000000</td>\n",
       "      <td>0.000000</td>\n",
       "      <td>0.000000</td>\n",
       "      <td>0.250000</td>\n",
       "      <td>4</td>\n",
       "      <td>0</td>\n",
       "      <td>7000.0</td>\n",
       "      <td>4103.032597</td>\n",
       "      <td>1072.340217</td>\n",
       "      <td>0.222222</td>\n",
       "      <td>12</td>\n",
       "    </tr>\n",
       "    <tr>\n",
       "      <th>2</th>\n",
       "      <td>C10003</td>\n",
       "      <td>2495.148862</td>\n",
       "      <td>1.000000</td>\n",
       "      <td>773.17</td>\n",
       "      <td>773.17</td>\n",
       "      <td>0.0</td>\n",
       "      <td>0.000000</td>\n",
       "      <td>1.000000</td>\n",
       "      <td>1.000000</td>\n",
       "      <td>0.000000</td>\n",
       "      <td>0.000000</td>\n",
       "      <td>0</td>\n",
       "      <td>12</td>\n",
       "      <td>7500.0</td>\n",
       "      <td>622.066742</td>\n",
       "      <td>627.284787</td>\n",
       "      <td>0.000000</td>\n",
       "      <td>12</td>\n",
       "    </tr>\n",
       "    <tr>\n",
       "      <th>3</th>\n",
       "      <td>C10004</td>\n",
       "      <td>1666.670542</td>\n",
       "      <td>0.636364</td>\n",
       "      <td>1499.00</td>\n",
       "      <td>1499.00</td>\n",
       "      <td>0.0</td>\n",
       "      <td>205.788017</td>\n",
       "      <td>0.083333</td>\n",
       "      <td>0.083333</td>\n",
       "      <td>0.000000</td>\n",
       "      <td>0.083333</td>\n",
       "      <td>1</td>\n",
       "      <td>1</td>\n",
       "      <td>7500.0</td>\n",
       "      <td>0.000000</td>\n",
       "      <td>NaN</td>\n",
       "      <td>0.000000</td>\n",
       "      <td>12</td>\n",
       "    </tr>\n",
       "    <tr>\n",
       "      <th>4</th>\n",
       "      <td>C10005</td>\n",
       "      <td>817.714335</td>\n",
       "      <td>1.000000</td>\n",
       "      <td>16.00</td>\n",
       "      <td>16.00</td>\n",
       "      <td>0.0</td>\n",
       "      <td>0.000000</td>\n",
       "      <td>0.083333</td>\n",
       "      <td>0.083333</td>\n",
       "      <td>0.000000</td>\n",
       "      <td>0.000000</td>\n",
       "      <td>0</td>\n",
       "      <td>1</td>\n",
       "      <td>1200.0</td>\n",
       "      <td>678.334763</td>\n",
       "      <td>244.791237</td>\n",
       "      <td>0.000000</td>\n",
       "      <td>12</td>\n",
       "    </tr>\n",
       "  </tbody>\n",
       "</table>\n",
       "</div>"
      ],
      "text/plain": [
       "  CUST_ID      BALANCE  BALANCE_FREQUENCY  PURCHASES  ONEOFF_PURCHASES  \\\n",
       "0  C10001    40.900749           0.818182      95.40              0.00   \n",
       "1  C10002  3202.467416           0.909091       0.00              0.00   \n",
       "2  C10003  2495.148862           1.000000     773.17            773.17   \n",
       "3  C10004  1666.670542           0.636364    1499.00           1499.00   \n",
       "4  C10005   817.714335           1.000000      16.00             16.00   \n",
       "\n",
       "   INSTALLMENTS_PURCHASES  CASH_ADVANCE  PURCHASES_FREQUENCY  \\\n",
       "0                    95.4      0.000000             0.166667   \n",
       "1                     0.0   6442.945483             0.000000   \n",
       "2                     0.0      0.000000             1.000000   \n",
       "3                     0.0    205.788017             0.083333   \n",
       "4                     0.0      0.000000             0.083333   \n",
       "\n",
       "   ONEOFF_PURCHASES_FREQUENCY  PURCHASES_INSTALLMENTS_FREQUENCY  \\\n",
       "0                    0.000000                          0.083333   \n",
       "1                    0.000000                          0.000000   \n",
       "2                    1.000000                          0.000000   \n",
       "3                    0.083333                          0.000000   \n",
       "4                    0.083333                          0.000000   \n",
       "\n",
       "   CASH_ADVANCE_FREQUENCY  CASH_ADVANCE_TRX  PURCHASES_TRX  CREDIT_LIMIT  \\\n",
       "0                0.000000                 0              2        1000.0   \n",
       "1                0.250000                 4              0        7000.0   \n",
       "2                0.000000                 0             12        7500.0   \n",
       "3                0.083333                 1              1        7500.0   \n",
       "4                0.000000                 0              1        1200.0   \n",
       "\n",
       "      PAYMENTS  MINIMUM_PAYMENTS  PRC_FULL_PAYMENT  TENURE  \n",
       "0   201.802084        139.509787          0.000000      12  \n",
       "1  4103.032597       1072.340217          0.222222      12  \n",
       "2   622.066742        627.284787          0.000000      12  \n",
       "3     0.000000               NaN          0.000000      12  \n",
       "4   678.334763        244.791237          0.000000      12  "
      ]
     },
     "execution_count": 26,
     "metadata": {},
     "output_type": "execute_result"
    }
   ],
   "source": [
    "df = pd.read_csv(\"credit_card_dataset.csv\")\n",
    "df.head()"
   ]
  },
  {
   "cell_type": "code",
   "execution_count": 6,
   "id": "deb3a048",
   "metadata": {},
   "outputs": [
    {
     "data": {
      "text/plain": [
       "(8950, 18)"
      ]
     },
     "execution_count": 6,
     "metadata": {},
     "output_type": "execute_result"
    }
   ],
   "source": [
    "df.shape"
   ]
  },
  {
   "cell_type": "markdown",
   "id": "c1fa5d6f",
   "metadata": {},
   "source": [
    "This Dataset contains 8950 rows of as well as 18 columns. The rows represent the Credit Card information of individual customers. We can find more general information about our data by using *info function* below:"
   ]
  },
  {
   "cell_type": "code",
   "execution_count": 7,
   "id": "d20718a6",
   "metadata": {},
   "outputs": [
    {
     "name": "stdout",
     "output_type": "stream",
     "text": [
      "<class 'pandas.core.frame.DataFrame'>\n",
      "RangeIndex: 8950 entries, 0 to 8949\n",
      "Data columns (total 18 columns):\n",
      " #   Column                            Non-Null Count  Dtype  \n",
      "---  ------                            --------------  -----  \n",
      " 0   CUST_ID                           8950 non-null   object \n",
      " 1   BALANCE                           8950 non-null   float64\n",
      " 2   BALANCE_FREQUENCY                 8950 non-null   float64\n",
      " 3   PURCHASES                         8950 non-null   float64\n",
      " 4   ONEOFF_PURCHASES                  8950 non-null   float64\n",
      " 5   INSTALLMENTS_PURCHASES            8950 non-null   float64\n",
      " 6   CASH_ADVANCE                      8950 non-null   float64\n",
      " 7   PURCHASES_FREQUENCY               8950 non-null   float64\n",
      " 8   ONEOFF_PURCHASES_FREQUENCY        8950 non-null   float64\n",
      " 9   PURCHASES_INSTALLMENTS_FREQUENCY  8950 non-null   float64\n",
      " 10  CASH_ADVANCE_FREQUENCY            8950 non-null   float64\n",
      " 11  CASH_ADVANCE_TRX                  8950 non-null   int64  \n",
      " 12  PURCHASES_TRX                     8950 non-null   int64  \n",
      " 13  CREDIT_LIMIT                      8949 non-null   float64\n",
      " 14  PAYMENTS                          8950 non-null   float64\n",
      " 15  MINIMUM_PAYMENTS                  8637 non-null   float64\n",
      " 16  PRC_FULL_PAYMENT                  8950 non-null   float64\n",
      " 17  TENURE                            8950 non-null   int64  \n",
      "dtypes: float64(14), int64(3), object(1)\n",
      "memory usage: 1.2+ MB\n"
     ]
    }
   ],
   "source": [
    "df.info()"
   ]
  },
  {
   "cell_type": "markdown",
   "id": "dfd16cfb",
   "metadata": {},
   "source": [
    "When looking at the datatypes present in this dataset we can see that it contains numeric data(i.e. floating point numbers and integers). This important because Clustering Algorithm requires calculating the Eucledian Distance from each observation and the cluster centroid, meaning that it is only applicable for numeric data.\n",
    "\n"
   ]
  },
  {
   "cell_type": "markdown",
   "id": "c8c5970c",
   "metadata": {},
   "source": [
    "The columns from this dataset that peak my interest in particular are *Balance* and *Credit Limit*. We shall return to these at a later stage, but as of now, let us have an idea of how they look like in a scatter plot against each other:"
   ]
  },
  {
   "cell_type": "code",
   "execution_count": 8,
   "id": "61c7a023",
   "metadata": {
    "scrolled": false
   },
   "outputs": [
    {
     "data": {
      "image/png": "[encoded data removed]",
      "text/plain": [
       "<Figure size 1008x864 with 1 Axes>"
      ]
     },
     "metadata": {
      "needs_background": "light"
     },
     "output_type": "display_data"
    }
   ],
   "source": [
    "plt.figure(figsize = (14, 12))\n",
    "plt.title(\"Balance to Credit Limit ratio\", fontsize = 20)\n",
    "plt.scatter(df[\"BALANCE\"], df[\"CREDIT_LIMIT\"], color = \"grey\")\n",
    "plt.xlabel(\"Balance\", fontsize = 16)\n",
    "plt.ylabel(\"Credit Limit\", fontsize = 16)\n",
    "plt.show()"
   ]
  },
  {
   "cell_type": "markdown",
   "id": "10840a1b",
   "metadata": {},
   "source": [
    "The scatter plot above represents the relationship between the customer's credit card balance and their credit limit. It is against these paraMeters we will try to segment our customers using the *K-Means* algorithm. "
   ]
  },
  {
   "cell_type": "markdown",
   "id": "3608ba1b",
   "metadata": {},
   "source": [
    "## Cleaning Data"
   ]
  },
  {
   "cell_type": "markdown",
   "id": "5f497bb8",
   "metadata": {},
   "source": [
    "looking at this data we can see that prior to clustering it needs to be cleamed.Oftentimes data we work with can be quite noisy containing duplicates, outliers or be incomplete. This can be a big problem for a project like this one because improper data can affect the results we get from ML operations such as *K-Means Clustering*. This can lead to erroneous answers and consequently, erroneous suggestions for our email marketing campaign. \n",
    "\n",
    "There are certain things we need to be on the lookout for in our data when preforming *K-Means Clustering*:\n",
    "\n",
    "* As mentioned earier, the values we are working with must be numerical. Foinstances where we have data which is both categorical and numerical we can use something else like K-prototype Clustering. \n",
    "* Secondly, our data must not contain any outliers or missing/duplicate values that create noise for *K-Means* algorithm is notoriously sensitive to them. \n",
    "* Lastly, our data must be on the same scale having the same mean and variance \n",
    "\n",
    "Thus, in this section I will try to eliminate noisiness of this data by taking care of outliers, potential duplicate values and missing values. "
   ]
  },
  {
   "cell_type": "markdown",
   "id": "6a16a9f2",
   "metadata": {},
   "source": [
    "### Unique and Duplicate Values "
   ]
  },
  {
   "cell_type": "markdown",
   "id": "6b2909a5",
   "metadata": {},
   "source": [
    "Lets begin by looking for the presence of duplicate values in our data:"
   ]
  },
  {
   "cell_type": "code",
   "execution_count": 9,
   "id": "1053a2d2",
   "metadata": {},
   "outputs": [
    {
     "data": {
      "text/plain": [
       "0"
      ]
     },
     "execution_count": 9,
     "metadata": {},
     "output_type": "execute_result"
    }
   ],
   "source": [
    "df.duplicated().sum()"
   ]
  },
  {
   "cell_type": "markdown",
   "id": "c476900e",
   "metadata": {},
   "source": [
    "As we can see there are no duplicates. Lets continue by considering the presence of unique values."
   ]
  },
  {
   "cell_type": "code",
   "execution_count": 10,
   "id": "d98e47ef",
   "metadata": {},
   "outputs": [
    {
     "data": {
      "text/html": [
       "<div>\n",
       "<style scoped>\n",
       "    .dataframe tbody tr th:only-of-type {\n",
       "        vertical-align: middle;\n",
       "    }\n",
       "\n",
       "    .dataframe tbody tr th {\n",
       "        vertical-align: top;\n",
       "    }\n",
       "\n",
       "    .dataframe thead th {\n",
       "        text-align: right;\n",
       "    }\n",
       "</style>\n",
       "<table border=\"1\" class=\"dataframe\">\n",
       "  <thead>\n",
       "    <tr style=\"text-align: right;\">\n",
       "      <th></th>\n",
       "      <th>CUST_ID</th>\n",
       "      <th>BALANCE</th>\n",
       "      <th>BALANCE_FREQUENCY</th>\n",
       "      <th>PURCHASES</th>\n",
       "      <th>ONEOFF_PURCHASES</th>\n",
       "      <th>INSTALLMENTS_PURCHASES</th>\n",
       "      <th>CASH_ADVANCE</th>\n",
       "      <th>PURCHASES_FREQUENCY</th>\n",
       "      <th>ONEOFF_PURCHASES_FREQUENCY</th>\n",
       "      <th>PURCHASES_INSTALLMENTS_FREQUENCY</th>\n",
       "      <th>CASH_ADVANCE_FREQUENCY</th>\n",
       "      <th>CASH_ADVANCE_TRX</th>\n",
       "      <th>PURCHASES_TRX</th>\n",
       "      <th>CREDIT_LIMIT</th>\n",
       "      <th>PAYMENTS</th>\n",
       "      <th>MINIMUM_PAYMENTS</th>\n",
       "      <th>PRC_FULL_PAYMENT</th>\n",
       "      <th>TENURE</th>\n",
       "    </tr>\n",
       "  </thead>\n",
       "  <tbody>\n",
       "    <tr>\n",
       "      <th>count</th>\n",
       "      <td>8950</td>\n",
       "      <td>8950.000000</td>\n",
       "      <td>8950.000000</td>\n",
       "      <td>8950.000000</td>\n",
       "      <td>8950.000000</td>\n",
       "      <td>8950.000000</td>\n",
       "      <td>8950.000000</td>\n",
       "      <td>8950.000000</td>\n",
       "      <td>8950.000000</td>\n",
       "      <td>8950.000000</td>\n",
       "      <td>8950.000000</td>\n",
       "      <td>8950.000000</td>\n",
       "      <td>8950.000000</td>\n",
       "      <td>8949.000000</td>\n",
       "      <td>8950.000000</td>\n",
       "      <td>8637.000000</td>\n",
       "      <td>8950.000000</td>\n",
       "      <td>8950.000000</td>\n",
       "    </tr>\n",
       "    <tr>\n",
       "      <th>unique</th>\n",
       "      <td>8950</td>\n",
       "      <td>NaN</td>\n",
       "      <td>NaN</td>\n",
       "      <td>NaN</td>\n",
       "      <td>NaN</td>\n",
       "      <td>NaN</td>\n",
       "      <td>NaN</td>\n",
       "      <td>NaN</td>\n",
       "      <td>NaN</td>\n",
       "      <td>NaN</td>\n",
       "      <td>NaN</td>\n",
       "      <td>NaN</td>\n",
       "      <td>NaN</td>\n",
       "      <td>NaN</td>\n",
       "      <td>NaN</td>\n",
       "      <td>NaN</td>\n",
       "      <td>NaN</td>\n",
       "      <td>NaN</td>\n",
       "    </tr>\n",
       "    <tr>\n",
       "      <th>top</th>\n",
       "      <td>C10001</td>\n",
       "      <td>NaN</td>\n",
       "      <td>NaN</td>\n",
       "      <td>NaN</td>\n",
       "      <td>NaN</td>\n",
       "      <td>NaN</td>\n",
       "      <td>NaN</td>\n",
       "      <td>NaN</td>\n",
       "      <td>NaN</td>\n",
       "      <td>NaN</td>\n",
       "      <td>NaN</td>\n",
       "      <td>NaN</td>\n",
       "      <td>NaN</td>\n",
       "      <td>NaN</td>\n",
       "      <td>NaN</td>\n",
       "      <td>NaN</td>\n",
       "      <td>NaN</td>\n",
       "      <td>NaN</td>\n",
       "    </tr>\n",
       "    <tr>\n",
       "      <th>freq</th>\n",
       "      <td>1</td>\n",
       "      <td>NaN</td>\n",
       "      <td>NaN</td>\n",
       "      <td>NaN</td>\n",
       "      <td>NaN</td>\n",
       "      <td>NaN</td>\n",
       "      <td>NaN</td>\n",
       "      <td>NaN</td>\n",
       "      <td>NaN</td>\n",
       "      <td>NaN</td>\n",
       "      <td>NaN</td>\n",
       "      <td>NaN</td>\n",
       "      <td>NaN</td>\n",
       "      <td>NaN</td>\n",
       "      <td>NaN</td>\n",
       "      <td>NaN</td>\n",
       "      <td>NaN</td>\n",
       "      <td>NaN</td>\n",
       "    </tr>\n",
       "    <tr>\n",
       "      <th>mean</th>\n",
       "      <td>NaN</td>\n",
       "      <td>1564.474828</td>\n",
       "      <td>0.877271</td>\n",
       "      <td>1003.204834</td>\n",
       "      <td>592.437371</td>\n",
       "      <td>411.067645</td>\n",
       "      <td>978.871112</td>\n",
       "      <td>0.490351</td>\n",
       "      <td>0.202458</td>\n",
       "      <td>0.364437</td>\n",
       "      <td>0.135144</td>\n",
       "      <td>3.248827</td>\n",
       "      <td>14.709832</td>\n",
       "      <td>4494.449450</td>\n",
       "      <td>1733.143852</td>\n",
       "      <td>864.206542</td>\n",
       "      <td>0.153715</td>\n",
       "      <td>11.517318</td>\n",
       "    </tr>\n",
       "    <tr>\n",
       "      <th>std</th>\n",
       "      <td>NaN</td>\n",
       "      <td>2081.531879</td>\n",
       "      <td>0.236904</td>\n",
       "      <td>2136.634782</td>\n",
       "      <td>1659.887917</td>\n",
       "      <td>904.338115</td>\n",
       "      <td>2097.163877</td>\n",
       "      <td>0.401371</td>\n",
       "      <td>0.298336</td>\n",
       "      <td>0.397448</td>\n",
       "      <td>0.200121</td>\n",
       "      <td>6.824647</td>\n",
       "      <td>24.857649</td>\n",
       "      <td>3638.815725</td>\n",
       "      <td>2895.063757</td>\n",
       "      <td>2372.446607</td>\n",
       "      <td>0.292499</td>\n",
       "      <td>1.338331</td>\n",
       "    </tr>\n",
       "    <tr>\n",
       "      <th>min</th>\n",
       "      <td>NaN</td>\n",
       "      <td>0.000000</td>\n",
       "      <td>0.000000</td>\n",
       "      <td>0.000000</td>\n",
       "      <td>0.000000</td>\n",
       "      <td>0.000000</td>\n",
       "      <td>0.000000</td>\n",
       "      <td>0.000000</td>\n",
       "      <td>0.000000</td>\n",
       "      <td>0.000000</td>\n",
       "      <td>0.000000</td>\n",
       "      <td>0.000000</td>\n",
       "      <td>0.000000</td>\n",
       "      <td>50.000000</td>\n",
       "      <td>0.000000</td>\n",
       "      <td>0.019163</td>\n",
       "      <td>0.000000</td>\n",
       "      <td>6.000000</td>\n",
       "    </tr>\n",
       "    <tr>\n",
       "      <th>25%</th>\n",
       "      <td>NaN</td>\n",
       "      <td>128.281915</td>\n",
       "      <td>0.888889</td>\n",
       "      <td>39.635000</td>\n",
       "      <td>0.000000</td>\n",
       "      <td>0.000000</td>\n",
       "      <td>0.000000</td>\n",
       "      <td>0.083333</td>\n",
       "      <td>0.000000</td>\n",
       "      <td>0.000000</td>\n",
       "      <td>0.000000</td>\n",
       "      <td>0.000000</td>\n",
       "      <td>1.000000</td>\n",
       "      <td>1600.000000</td>\n",
       "      <td>383.276166</td>\n",
       "      <td>169.123707</td>\n",
       "      <td>0.000000</td>\n",
       "      <td>12.000000</td>\n",
       "    </tr>\n",
       "    <tr>\n",
       "      <th>50%</th>\n",
       "      <td>NaN</td>\n",
       "      <td>873.385231</td>\n",
       "      <td>1.000000</td>\n",
       "      <td>361.280000</td>\n",
       "      <td>38.000000</td>\n",
       "      <td>89.000000</td>\n",
       "      <td>0.000000</td>\n",
       "      <td>0.500000</td>\n",
       "      <td>0.083333</td>\n",
       "      <td>0.166667</td>\n",
       "      <td>0.000000</td>\n",
       "      <td>0.000000</td>\n",
       "      <td>7.000000</td>\n",
       "      <td>3000.000000</td>\n",
       "      <td>856.901546</td>\n",
       "      <td>312.343947</td>\n",
       "      <td>0.000000</td>\n",
       "      <td>12.000000</td>\n",
       "    </tr>\n",
       "    <tr>\n",
       "      <th>75%</th>\n",
       "      <td>NaN</td>\n",
       "      <td>2054.140036</td>\n",
       "      <td>1.000000</td>\n",
       "      <td>1110.130000</td>\n",
       "      <td>577.405000</td>\n",
       "      <td>468.637500</td>\n",
       "      <td>1113.821139</td>\n",
       "      <td>0.916667</td>\n",
       "      <td>0.300000</td>\n",
       "      <td>0.750000</td>\n",
       "      <td>0.222222</td>\n",
       "      <td>4.000000</td>\n",
       "      <td>17.000000</td>\n",
       "      <td>6500.000000</td>\n",
       "      <td>1901.134317</td>\n",
       "      <td>825.485459</td>\n",
       "      <td>0.142857</td>\n",
       "      <td>12.000000</td>\n",
       "    </tr>\n",
       "    <tr>\n",
       "      <th>max</th>\n",
       "      <td>NaN</td>\n",
       "      <td>19043.138560</td>\n",
       "      <td>1.000000</td>\n",
       "      <td>49039.570000</td>\n",
       "      <td>40761.250000</td>\n",
       "      <td>22500.000000</td>\n",
       "      <td>47137.211760</td>\n",
       "      <td>1.000000</td>\n",
       "      <td>1.000000</td>\n",
       "      <td>1.000000</td>\n",
       "      <td>1.500000</td>\n",
       "      <td>123.000000</td>\n",
       "      <td>358.000000</td>\n",
       "      <td>30000.000000</td>\n",
       "      <td>50721.483360</td>\n",
       "      <td>76406.207520</td>\n",
       "      <td>1.000000</td>\n",
       "      <td>12.000000</td>\n",
       "    </tr>\n",
       "  </tbody>\n",
       "</table>\n",
       "</div>"
      ],
      "text/plain": [
       "       CUST_ID       BALANCE  BALANCE_FREQUENCY     PURCHASES  \\\n",
       "count     8950   8950.000000        8950.000000   8950.000000   \n",
       "unique    8950           NaN                NaN           NaN   \n",
       "top     C10001           NaN                NaN           NaN   \n",
       "freq         1           NaN                NaN           NaN   \n",
       "mean       NaN   1564.474828           0.877271   1003.204834   \n",
       "std        NaN   2081.531879           0.236904   2136.634782   \n",
       "min        NaN      0.000000           0.000000      0.000000   \n",
       "25%        NaN    128.281915           0.888889     39.635000   \n",
       "50%        NaN    873.385231           1.000000    361.280000   \n",
       "75%        NaN   2054.140036           1.000000   1110.130000   \n",
       "max        NaN  19043.138560           1.000000  49039.570000   \n",
       "\n",
       "        ONEOFF_PURCHASES  INSTALLMENTS_PURCHASES  CASH_ADVANCE  \\\n",
       "count        8950.000000             8950.000000   8950.000000   \n",
       "unique               NaN                     NaN           NaN   \n",
       "top                  NaN                     NaN           NaN   \n",
       "freq                 NaN                     NaN           NaN   \n",
       "mean          592.437371              411.067645    978.871112   \n",
       "std          1659.887917              904.338115   2097.163877   \n",
       "min             0.000000                0.000000      0.000000   \n",
       "25%             0.000000                0.000000      0.000000   \n",
       "50%            38.000000               89.000000      0.000000   \n",
       "75%           577.405000              468.637500   1113.821139   \n",
       "max         40761.250000            22500.000000  47137.211760   \n",
       "\n",
       "        PURCHASES_FREQUENCY  ONEOFF_PURCHASES_FREQUENCY  \\\n",
       "count           8950.000000                 8950.000000   \n",
       "unique                  NaN                         NaN   \n",
       "top                     NaN                         NaN   \n",
       "freq                    NaN                         NaN   \n",
       "mean               0.490351                    0.202458   \n",
       "std                0.401371                    0.298336   \n",
       "min                0.000000                    0.000000   \n",
       "25%                0.083333                    0.000000   \n",
       "50%                0.500000                    0.083333   \n",
       "75%                0.916667                    0.300000   \n",
       "max                1.000000                    1.000000   \n",
       "\n",
       "        PURCHASES_INSTALLMENTS_FREQUENCY  CASH_ADVANCE_FREQUENCY  \\\n",
       "count                        8950.000000             8950.000000   \n",
       "unique                               NaN                     NaN   \n",
       "top                                  NaN                     NaN   \n",
       "freq                                 NaN                     NaN   \n",
       "mean                            0.364437                0.135144   \n",
       "std                             0.397448                0.200121   \n",
       "min                             0.000000                0.000000   \n",
       "25%                             0.000000                0.000000   \n",
       "50%                             0.166667                0.000000   \n",
       "75%                             0.750000                0.222222   \n",
       "max                             1.000000                1.500000   \n",
       "\n",
       "        CASH_ADVANCE_TRX  PURCHASES_TRX  CREDIT_LIMIT      PAYMENTS  \\\n",
       "count        8950.000000    8950.000000   8949.000000   8950.000000   \n",
       "unique               NaN            NaN           NaN           NaN   \n",
       "top                  NaN            NaN           NaN           NaN   \n",
       "freq                 NaN            NaN           NaN           NaN   \n",
       "mean            3.248827      14.709832   4494.449450   1733.143852   \n",
       "std             6.824647      24.857649   3638.815725   2895.063757   \n",
       "min             0.000000       0.000000     50.000000      0.000000   \n",
       "25%             0.000000       1.000000   1600.000000    383.276166   \n",
       "50%             0.000000       7.000000   3000.000000    856.901546   \n",
       "75%             4.000000      17.000000   6500.000000   1901.134317   \n",
       "max           123.000000     358.000000  30000.000000  50721.483360   \n",
       "\n",
       "        MINIMUM_PAYMENTS  PRC_FULL_PAYMENT       TENURE  \n",
       "count        8637.000000       8950.000000  8950.000000  \n",
       "unique               NaN               NaN          NaN  \n",
       "top                  NaN               NaN          NaN  \n",
       "freq                 NaN               NaN          NaN  \n",
       "mean          864.206542          0.153715    11.517318  \n",
       "std          2372.446607          0.292499     1.338331  \n",
       "min             0.019163          0.000000     6.000000  \n",
       "25%           169.123707          0.000000    12.000000  \n",
       "50%           312.343947          0.000000    12.000000  \n",
       "75%           825.485459          0.142857    12.000000  \n",
       "max         76406.207520          1.000000    12.000000  "
      ]
     },
     "execution_count": 10,
     "metadata": {},
     "output_type": "execute_result"
    }
   ],
   "source": [
    "df.describe(include = \"all\")"
   ]
  },
  {
   "cell_type": "markdown",
   "id": "5f3282da",
   "metadata": {},
   "source": [
    "From the dataframe above we can see that each customer identification is unique to each other and for our ease we can remove this column."
   ]
  },
  {
   "cell_type": "code",
   "execution_count": 11,
   "id": "3ed1b2c9",
   "metadata": {},
   "outputs": [],
   "source": [
    "df.drop('CUST_ID',axis=1,inplace=True)"
   ]
  },
  {
   "cell_type": "code",
   "execution_count": 12,
   "id": "56b372a7",
   "metadata": {},
   "outputs": [
    {
     "data": {
      "text/html": [
       "<div>\n",
       "<style scoped>\n",
       "    .dataframe tbody tr th:only-of-type {\n",
       "        vertical-align: middle;\n",
       "    }\n",
       "\n",
       "    .dataframe tbody tr th {\n",
       "        vertical-align: top;\n",
       "    }\n",
       "\n",
       "    .dataframe thead th {\n",
       "        text-align: right;\n",
       "    }\n",
       "</style>\n",
       "<table border=\"1\" class=\"dataframe\">\n",
       "  <thead>\n",
       "    <tr style=\"text-align: right;\">\n",
       "      <th></th>\n",
       "      <th>BALANCE</th>\n",
       "      <th>BALANCE_FREQUENCY</th>\n",
       "      <th>PURCHASES</th>\n",
       "      <th>ONEOFF_PURCHASES</th>\n",
       "      <th>INSTALLMENTS_PURCHASES</th>\n",
       "      <th>CASH_ADVANCE</th>\n",
       "      <th>PURCHASES_FREQUENCY</th>\n",
       "      <th>ONEOFF_PURCHASES_FREQUENCY</th>\n",
       "      <th>PURCHASES_INSTALLMENTS_FREQUENCY</th>\n",
       "      <th>CASH_ADVANCE_FREQUENCY</th>\n",
       "      <th>CASH_ADVANCE_TRX</th>\n",
       "      <th>PURCHASES_TRX</th>\n",
       "      <th>CREDIT_LIMIT</th>\n",
       "      <th>PAYMENTS</th>\n",
       "      <th>MINIMUM_PAYMENTS</th>\n",
       "      <th>PRC_FULL_PAYMENT</th>\n",
       "      <th>TENURE</th>\n",
       "    </tr>\n",
       "  </thead>\n",
       "  <tbody>\n",
       "    <tr>\n",
       "      <th>0</th>\n",
       "      <td>40.900749</td>\n",
       "      <td>0.818182</td>\n",
       "      <td>95.40</td>\n",
       "      <td>0.00</td>\n",
       "      <td>95.4</td>\n",
       "      <td>0.000000</td>\n",
       "      <td>0.166667</td>\n",
       "      <td>0.000000</td>\n",
       "      <td>0.083333</td>\n",
       "      <td>0.000000</td>\n",
       "      <td>0</td>\n",
       "      <td>2</td>\n",
       "      <td>1000.0</td>\n",
       "      <td>201.802084</td>\n",
       "      <td>139.509787</td>\n",
       "      <td>0.000000</td>\n",
       "      <td>12</td>\n",
       "    </tr>\n",
       "    <tr>\n",
       "      <th>1</th>\n",
       "      <td>3202.467416</td>\n",
       "      <td>0.909091</td>\n",
       "      <td>0.00</td>\n",
       "      <td>0.00</td>\n",
       "      <td>0.0</td>\n",
       "      <td>6442.945483</td>\n",
       "      <td>0.000000</td>\n",
       "      <td>0.000000</td>\n",
       "      <td>0.000000</td>\n",
       "      <td>0.250000</td>\n",
       "      <td>4</td>\n",
       "      <td>0</td>\n",
       "      <td>7000.0</td>\n",
       "      <td>4103.032597</td>\n",
       "      <td>1072.340217</td>\n",
       "      <td>0.222222</td>\n",
       "      <td>12</td>\n",
       "    </tr>\n",
       "    <tr>\n",
       "      <th>2</th>\n",
       "      <td>2495.148862</td>\n",
       "      <td>1.000000</td>\n",
       "      <td>773.17</td>\n",
       "      <td>773.17</td>\n",
       "      <td>0.0</td>\n",
       "      <td>0.000000</td>\n",
       "      <td>1.000000</td>\n",
       "      <td>1.000000</td>\n",
       "      <td>0.000000</td>\n",
       "      <td>0.000000</td>\n",
       "      <td>0</td>\n",
       "      <td>12</td>\n",
       "      <td>7500.0</td>\n",
       "      <td>622.066742</td>\n",
       "      <td>627.284787</td>\n",
       "      <td>0.000000</td>\n",
       "      <td>12</td>\n",
       "    </tr>\n",
       "    <tr>\n",
       "      <th>3</th>\n",
       "      <td>1666.670542</td>\n",
       "      <td>0.636364</td>\n",
       "      <td>1499.00</td>\n",
       "      <td>1499.00</td>\n",
       "      <td>0.0</td>\n",
       "      <td>205.788017</td>\n",
       "      <td>0.083333</td>\n",
       "      <td>0.083333</td>\n",
       "      <td>0.000000</td>\n",
       "      <td>0.083333</td>\n",
       "      <td>1</td>\n",
       "      <td>1</td>\n",
       "      <td>7500.0</td>\n",
       "      <td>0.000000</td>\n",
       "      <td>NaN</td>\n",
       "      <td>0.000000</td>\n",
       "      <td>12</td>\n",
       "    </tr>\n",
       "    <tr>\n",
       "      <th>4</th>\n",
       "      <td>817.714335</td>\n",
       "      <td>1.000000</td>\n",
       "      <td>16.00</td>\n",
       "      <td>16.00</td>\n",
       "      <td>0.0</td>\n",
       "      <td>0.000000</td>\n",
       "      <td>0.083333</td>\n",
       "      <td>0.083333</td>\n",
       "      <td>0.000000</td>\n",
       "      <td>0.000000</td>\n",
       "      <td>0</td>\n",
       "      <td>1</td>\n",
       "      <td>1200.0</td>\n",
       "      <td>678.334763</td>\n",
       "      <td>244.791237</td>\n",
       "      <td>0.000000</td>\n",
       "      <td>12</td>\n",
       "    </tr>\n",
       "  </tbody>\n",
       "</table>\n",
       "</div>"
      ],
      "text/plain": [
       "       BALANCE  BALANCE_FREQUENCY  PURCHASES  ONEOFF_PURCHASES  \\\n",
       "0    40.900749           0.818182      95.40              0.00   \n",
       "1  3202.467416           0.909091       0.00              0.00   \n",
       "2  2495.148862           1.000000     773.17            773.17   \n",
       "3  1666.670542           0.636364    1499.00           1499.00   \n",
       "4   817.714335           1.000000      16.00             16.00   \n",
       "\n",
       "   INSTALLMENTS_PURCHASES  CASH_ADVANCE  PURCHASES_FREQUENCY  \\\n",
       "0                    95.4      0.000000             0.166667   \n",
       "1                     0.0   6442.945483             0.000000   \n",
       "2                     0.0      0.000000             1.000000   \n",
       "3                     0.0    205.788017             0.083333   \n",
       "4                     0.0      0.000000             0.083333   \n",
       "\n",
       "   ONEOFF_PURCHASES_FREQUENCY  PURCHASES_INSTALLMENTS_FREQUENCY  \\\n",
       "0                    0.000000                          0.083333   \n",
       "1                    0.000000                          0.000000   \n",
       "2                    1.000000                          0.000000   \n",
       "3                    0.083333                          0.000000   \n",
       "4                    0.083333                          0.000000   \n",
       "\n",
       "   CASH_ADVANCE_FREQUENCY  CASH_ADVANCE_TRX  PURCHASES_TRX  CREDIT_LIMIT  \\\n",
       "0                0.000000                 0              2        1000.0   \n",
       "1                0.250000                 4              0        7000.0   \n",
       "2                0.000000                 0             12        7500.0   \n",
       "3                0.083333                 1              1        7500.0   \n",
       "4                0.000000                 0              1        1200.0   \n",
       "\n",
       "      PAYMENTS  MINIMUM_PAYMENTS  PRC_FULL_PAYMENT  TENURE  \n",
       "0   201.802084        139.509787          0.000000      12  \n",
       "1  4103.032597       1072.340217          0.222222      12  \n",
       "2   622.066742        627.284787          0.000000      12  \n",
       "3     0.000000               NaN          0.000000      12  \n",
       "4   678.334763        244.791237          0.000000      12  "
      ]
     },
     "execution_count": 12,
     "metadata": {},
     "output_type": "execute_result"
    }
   ],
   "source": [
    "df.head()"
   ]
  },
  {
   "cell_type": "markdown",
   "id": "32d2bd3d",
   "metadata": {},
   "source": [
    "We have successfully removed the *Customer ID* column. Our data does not contain unique or duplicate values."
   ]
  },
  {
   "cell_type": "markdown",
   "id": "eb3c72f4",
   "metadata": {},
   "source": [
    "### Outliers "
   ]
  },
  {
   "cell_type": "markdown",
   "id": "8da83693",
   "metadata": {},
   "source": [
    "In this section I will attempt to remove outliers from our data. First challenge for us will be to locate these outliers.Having completed this step we can eliminate them."
   ]
  },
  {
   "cell_type": "markdown",
   "id": "02a73745",
   "metadata": {},
   "source": [
    "In order to find outliers in this dataset I will calculate the Interquatile Range and estimate the Lower Bound and Upper Bound. Any Datapoints that lay above the Upper Bound and Below the lower Bound will therefore be treated as Outliers "
   ]
  },
  {
   "cell_type": "code",
   "execution_count": 13,
   "id": "a3a89783",
   "metadata": {},
   "outputs": [
    {
     "name": "stdout",
     "output_type": "stream",
     "text": [
      "BALANCE                             1925.858120\n",
      "BALANCE_FREQUENCY                      0.111111\n",
      "PURCHASES                           1070.495000\n",
      "ONEOFF_PURCHASES                     577.405000\n",
      "INSTALLMENTS_PURCHASES               468.637500\n",
      "CASH_ADVANCE                        1113.821139\n",
      "PURCHASES_FREQUENCY                    0.833334\n",
      "ONEOFF_PURCHASES_FREQUENCY             0.300000\n",
      "PURCHASES_INSTALLMENTS_FREQUENCY       0.750000\n",
      "CASH_ADVANCE_FREQUENCY                 0.222222\n",
      "CASH_ADVANCE_TRX                       4.000000\n",
      "PURCHASES_TRX                         16.000000\n",
      "CREDIT_LIMIT                        4900.000000\n",
      "PAYMENTS                            1517.858151\n",
      "MINIMUM_PAYMENTS                     656.361752\n",
      "PRC_FULL_PAYMENT                       0.142857\n",
      "TENURE                                 0.000000\n",
      "dtype: float64\n"
     ]
    }
   ],
   "source": [
    "\n",
    "\n",
    "Q1 = df.quantile(0.25)#Lower Bound\n",
    "Q3 = df.quantile(0.75)#Upper Bound \n",
    "Inter_Quartile_Range = Q3 - Q1\n",
    "print(Inter_Quartile_Range)# For each column of the dataset "
   ]
  },
  {
   "cell_type": "markdown",
   "id": "503ee24c",
   "metadata": {},
   "source": [
    "Having found the Inter Quartile Range we can detect the outliers within this dataset using the code below:"
   ]
  },
  {
   "cell_type": "code",
   "execution_count": 14,
   "id": "5ac9f805",
   "metadata": {},
   "outputs": [
    {
     "name": "stdout",
     "output_type": "stream",
     "text": [
      "      BALANCE  BALANCE_FREQUENCY  PURCHASES  ONEOFF_PURCHASES  \\\n",
      "0       False              False      False             False   \n",
      "1       False              False      False             False   \n",
      "2       False              False      False             False   \n",
      "3       False               True      False             False   \n",
      "4       False              False      False             False   \n",
      "...       ...                ...        ...               ...   \n",
      "8945    False              False      False             False   \n",
      "8946    False              False      False             False   \n",
      "8947    False              False      False             False   \n",
      "8948    False              False      False             False   \n",
      "8949    False               True      False             False   \n",
      "\n",
      "      INSTALLMENTS_PURCHASES  CASH_ADVANCE  PURCHASES_FREQUENCY  \\\n",
      "0                      False         False                False   \n",
      "1                      False         False                False   \n",
      "2                      False         False                False   \n",
      "3                      False         False                False   \n",
      "4                      False         False                False   \n",
      "...                      ...           ...                  ...   \n",
      "8945                   False         False                False   \n",
      "8946                   False         False                False   \n",
      "8947                   False         False                False   \n",
      "8948                   False         False                False   \n",
      "8949                   False         False                False   \n",
      "\n",
      "      ONEOFF_PURCHASES_FREQUENCY  PURCHASES_INSTALLMENTS_FREQUENCY  \\\n",
      "0                          False                             False   \n",
      "1                          False                             False   \n",
      "2                          False                             False   \n",
      "3                          False                             False   \n",
      "4                          False                             False   \n",
      "...                          ...                               ...   \n",
      "8945                       False                             False   \n",
      "8946                       False                             False   \n",
      "8947                       False                             False   \n",
      "8948                       False                             False   \n",
      "8949                       False                             False   \n",
      "\n",
      "      CASH_ADVANCE_FREQUENCY  CASH_ADVANCE_TRX  PURCHASES_TRX  CREDIT_LIMIT  \\\n",
      "0                      False             False          False         False   \n",
      "1                      False             False          False         False   \n",
      "2                      False             False          False         False   \n",
      "3                      False             False          False         False   \n",
      "4                      False             False          False         False   \n",
      "...                      ...               ...            ...           ...   \n",
      "8945                   False             False          False         False   \n",
      "8946                   False             False          False         False   \n",
      "8947                   False             False          False         False   \n",
      "8948                   False             False          False         False   \n",
      "8949                   False             False          False         False   \n",
      "\n",
      "      PAYMENTS  MINIMUM_PAYMENTS  PRC_FULL_PAYMENT  TENURE  \n",
      "0        False             False             False   False  \n",
      "1        False             False             False   False  \n",
      "2        False             False             False   False  \n",
      "3        False             False             False   False  \n",
      "4        False             False             False   False  \n",
      "...        ...               ...               ...     ...  \n",
      "8945     False             False             False    True  \n",
      "8946     False             False             False    True  \n",
      "8947     False             False             False    True  \n",
      "8948     False             False             False    True  \n",
      "8949     False             False             False    True  \n",
      "\n",
      "[8950 rows x 17 columns]\n"
     ]
    },
    {
     "data": {
      "text/html": [
       "<div>\n",
       "<style scoped>\n",
       "    .dataframe tbody tr th:only-of-type {\n",
       "        vertical-align: middle;\n",
       "    }\n",
       "\n",
       "    .dataframe tbody tr th {\n",
       "        vertical-align: top;\n",
       "    }\n",
       "\n",
       "    .dataframe thead th {\n",
       "        text-align: right;\n",
       "    }\n",
       "</style>\n",
       "<table border=\"1\" class=\"dataframe\">\n",
       "  <thead>\n",
       "    <tr style=\"text-align: right;\">\n",
       "      <th></th>\n",
       "      <th>BALANCE</th>\n",
       "      <th>BALANCE_FREQUENCY</th>\n",
       "      <th>PURCHASES</th>\n",
       "      <th>ONEOFF_PURCHASES</th>\n",
       "      <th>INSTALLMENTS_PURCHASES</th>\n",
       "      <th>CASH_ADVANCE</th>\n",
       "      <th>PURCHASES_FREQUENCY</th>\n",
       "      <th>ONEOFF_PURCHASES_FREQUENCY</th>\n",
       "      <th>PURCHASES_INSTALLMENTS_FREQUENCY</th>\n",
       "      <th>CASH_ADVANCE_FREQUENCY</th>\n",
       "      <th>CASH_ADVANCE_TRX</th>\n",
       "      <th>PURCHASES_TRX</th>\n",
       "      <th>CREDIT_LIMIT</th>\n",
       "      <th>PAYMENTS</th>\n",
       "      <th>MINIMUM_PAYMENTS</th>\n",
       "      <th>PRC_FULL_PAYMENT</th>\n",
       "      <th>TENURE</th>\n",
       "    </tr>\n",
       "  </thead>\n",
       "  <tbody>\n",
       "    <tr>\n",
       "      <th>0</th>\n",
       "      <td>False</td>\n",
       "      <td>False</td>\n",
       "      <td>False</td>\n",
       "      <td>False</td>\n",
       "      <td>False</td>\n",
       "      <td>False</td>\n",
       "      <td>False</td>\n",
       "      <td>False</td>\n",
       "      <td>False</td>\n",
       "      <td>False</td>\n",
       "      <td>False</td>\n",
       "      <td>False</td>\n",
       "      <td>False</td>\n",
       "      <td>False</td>\n",
       "      <td>False</td>\n",
       "      <td>False</td>\n",
       "      <td>False</td>\n",
       "    </tr>\n",
       "    <tr>\n",
       "      <th>1</th>\n",
       "      <td>False</td>\n",
       "      <td>False</td>\n",
       "      <td>False</td>\n",
       "      <td>False</td>\n",
       "      <td>False</td>\n",
       "      <td>True</td>\n",
       "      <td>False</td>\n",
       "      <td>False</td>\n",
       "      <td>False</td>\n",
       "      <td>False</td>\n",
       "      <td>False</td>\n",
       "      <td>False</td>\n",
       "      <td>False</td>\n",
       "      <td>False</td>\n",
       "      <td>False</td>\n",
       "      <td>False</td>\n",
       "      <td>False</td>\n",
       "    </tr>\n",
       "    <tr>\n",
       "      <th>2</th>\n",
       "      <td>False</td>\n",
       "      <td>False</td>\n",
       "      <td>False</td>\n",
       "      <td>False</td>\n",
       "      <td>False</td>\n",
       "      <td>False</td>\n",
       "      <td>False</td>\n",
       "      <td>True</td>\n",
       "      <td>False</td>\n",
       "      <td>False</td>\n",
       "      <td>False</td>\n",
       "      <td>False</td>\n",
       "      <td>False</td>\n",
       "      <td>False</td>\n",
       "      <td>False</td>\n",
       "      <td>False</td>\n",
       "      <td>False</td>\n",
       "    </tr>\n",
       "    <tr>\n",
       "      <th>3</th>\n",
       "      <td>False</td>\n",
       "      <td>False</td>\n",
       "      <td>False</td>\n",
       "      <td>True</td>\n",
       "      <td>False</td>\n",
       "      <td>False</td>\n",
       "      <td>False</td>\n",
       "      <td>False</td>\n",
       "      <td>False</td>\n",
       "      <td>False</td>\n",
       "      <td>False</td>\n",
       "      <td>False</td>\n",
       "      <td>False</td>\n",
       "      <td>False</td>\n",
       "      <td>False</td>\n",
       "      <td>False</td>\n",
       "      <td>False</td>\n",
       "    </tr>\n",
       "    <tr>\n",
       "      <th>4</th>\n",
       "      <td>False</td>\n",
       "      <td>False</td>\n",
       "      <td>False</td>\n",
       "      <td>False</td>\n",
       "      <td>False</td>\n",
       "      <td>False</td>\n",
       "      <td>False</td>\n",
       "      <td>False</td>\n",
       "      <td>False</td>\n",
       "      <td>False</td>\n",
       "      <td>False</td>\n",
       "      <td>False</td>\n",
       "      <td>False</td>\n",
       "      <td>False</td>\n",
       "      <td>False</td>\n",
       "      <td>False</td>\n",
       "      <td>False</td>\n",
       "    </tr>\n",
       "    <tr>\n",
       "      <th>...</th>\n",
       "      <td>...</td>\n",
       "      <td>...</td>\n",
       "      <td>...</td>\n",
       "      <td>...</td>\n",
       "      <td>...</td>\n",
       "      <td>...</td>\n",
       "      <td>...</td>\n",
       "      <td>...</td>\n",
       "      <td>...</td>\n",
       "      <td>...</td>\n",
       "      <td>...</td>\n",
       "      <td>...</td>\n",
       "      <td>...</td>\n",
       "      <td>...</td>\n",
       "      <td>...</td>\n",
       "      <td>...</td>\n",
       "      <td>...</td>\n",
       "    </tr>\n",
       "    <tr>\n",
       "      <th>8945</th>\n",
       "      <td>False</td>\n",
       "      <td>False</td>\n",
       "      <td>False</td>\n",
       "      <td>False</td>\n",
       "      <td>False</td>\n",
       "      <td>False</td>\n",
       "      <td>False</td>\n",
       "      <td>False</td>\n",
       "      <td>False</td>\n",
       "      <td>False</td>\n",
       "      <td>False</td>\n",
       "      <td>False</td>\n",
       "      <td>False</td>\n",
       "      <td>False</td>\n",
       "      <td>False</td>\n",
       "      <td>True</td>\n",
       "      <td>False</td>\n",
       "    </tr>\n",
       "    <tr>\n",
       "      <th>8946</th>\n",
       "      <td>False</td>\n",
       "      <td>False</td>\n",
       "      <td>False</td>\n",
       "      <td>False</td>\n",
       "      <td>False</td>\n",
       "      <td>False</td>\n",
       "      <td>False</td>\n",
       "      <td>False</td>\n",
       "      <td>False</td>\n",
       "      <td>False</td>\n",
       "      <td>False</td>\n",
       "      <td>False</td>\n",
       "      <td>False</td>\n",
       "      <td>False</td>\n",
       "      <td>False</td>\n",
       "      <td>False</td>\n",
       "      <td>False</td>\n",
       "    </tr>\n",
       "    <tr>\n",
       "      <th>8947</th>\n",
       "      <td>False</td>\n",
       "      <td>False</td>\n",
       "      <td>False</td>\n",
       "      <td>False</td>\n",
       "      <td>False</td>\n",
       "      <td>False</td>\n",
       "      <td>False</td>\n",
       "      <td>False</td>\n",
       "      <td>False</td>\n",
       "      <td>False</td>\n",
       "      <td>False</td>\n",
       "      <td>False</td>\n",
       "      <td>False</td>\n",
       "      <td>False</td>\n",
       "      <td>False</td>\n",
       "      <td>False</td>\n",
       "      <td>False</td>\n",
       "    </tr>\n",
       "    <tr>\n",
       "      <th>8948</th>\n",
       "      <td>False</td>\n",
       "      <td>False</td>\n",
       "      <td>False</td>\n",
       "      <td>False</td>\n",
       "      <td>False</td>\n",
       "      <td>False</td>\n",
       "      <td>False</td>\n",
       "      <td>False</td>\n",
       "      <td>False</td>\n",
       "      <td>False</td>\n",
       "      <td>False</td>\n",
       "      <td>False</td>\n",
       "      <td>False</td>\n",
       "      <td>False</td>\n",
       "      <td>False</td>\n",
       "      <td>False</td>\n",
       "      <td>False</td>\n",
       "    </tr>\n",
       "    <tr>\n",
       "      <th>8949</th>\n",
       "      <td>False</td>\n",
       "      <td>False</td>\n",
       "      <td>False</td>\n",
       "      <td>False</td>\n",
       "      <td>False</td>\n",
       "      <td>False</td>\n",
       "      <td>False</td>\n",
       "      <td>False</td>\n",
       "      <td>False</td>\n",
       "      <td>False</td>\n",
       "      <td>False</td>\n",
       "      <td>False</td>\n",
       "      <td>False</td>\n",
       "      <td>False</td>\n",
       "      <td>False</td>\n",
       "      <td>False</td>\n",
       "      <td>False</td>\n",
       "    </tr>\n",
       "  </tbody>\n",
       "</table>\n",
       "<p>8950 rows × 17 columns</p>\n",
       "</div>"
      ],
      "text/plain": [
       "      BALANCE  BALANCE_FREQUENCY  PURCHASES  ONEOFF_PURCHASES  \\\n",
       "0       False              False      False             False   \n",
       "1       False              False      False             False   \n",
       "2       False              False      False             False   \n",
       "3       False              False      False              True   \n",
       "4       False              False      False             False   \n",
       "...       ...                ...        ...               ...   \n",
       "8945    False              False      False             False   \n",
       "8946    False              False      False             False   \n",
       "8947    False              False      False             False   \n",
       "8948    False              False      False             False   \n",
       "8949    False              False      False             False   \n",
       "\n",
       "      INSTALLMENTS_PURCHASES  CASH_ADVANCE  PURCHASES_FREQUENCY  \\\n",
       "0                      False         False                False   \n",
       "1                      False          True                False   \n",
       "2                      False         False                False   \n",
       "3                      False         False                False   \n",
       "4                      False         False                False   \n",
       "...                      ...           ...                  ...   \n",
       "8945                   False         False                False   \n",
       "8946                   False         False                False   \n",
       "8947                   False         False                False   \n",
       "8948                   False         False                False   \n",
       "8949                   False         False                False   \n",
       "\n",
       "      ONEOFF_PURCHASES_FREQUENCY  PURCHASES_INSTALLMENTS_FREQUENCY  \\\n",
       "0                          False                             False   \n",
       "1                          False                             False   \n",
       "2                           True                             False   \n",
       "3                          False                             False   \n",
       "4                          False                             False   \n",
       "...                          ...                               ...   \n",
       "8945                       False                             False   \n",
       "8946                       False                             False   \n",
       "8947                       False                             False   \n",
       "8948                       False                             False   \n",
       "8949                       False                             False   \n",
       "\n",
       "      CASH_ADVANCE_FREQUENCY  CASH_ADVANCE_TRX  PURCHASES_TRX  CREDIT_LIMIT  \\\n",
       "0                      False             False          False         False   \n",
       "1                      False             False          False         False   \n",
       "2                      False             False          False         False   \n",
       "3                      False             False          False         False   \n",
       "4                      False             False          False         False   \n",
       "...                      ...               ...            ...           ...   \n",
       "8945                   False             False          False         False   \n",
       "8946                   False             False          False         False   \n",
       "8947                   False             False          False         False   \n",
       "8948                   False             False          False         False   \n",
       "8949                   False             False          False         False   \n",
       "\n",
       "      PAYMENTS  MINIMUM_PAYMENTS  PRC_FULL_PAYMENT  TENURE  \n",
       "0        False             False             False   False  \n",
       "1        False             False             False   False  \n",
       "2        False             False             False   False  \n",
       "3        False             False             False   False  \n",
       "4        False             False             False   False  \n",
       "...        ...               ...               ...     ...  \n",
       "8945     False             False              True   False  \n",
       "8946     False             False             False   False  \n",
       "8947     False             False             False   False  \n",
       "8948     False             False             False   False  \n",
       "8949     False             False             False   False  \n",
       "\n",
       "[8950 rows x 17 columns]"
      ]
     },
     "execution_count": 14,
     "metadata": {},
     "output_type": "execute_result"
    }
   ],
   "source": [
    "print(df < (Q1 - 1.5 * Inter_Quartile_Range)) or (df > (Q3 + 1.5 * Inter_Quartile_Range)) "
   ]
  },
  {
   "cell_type": "markdown",
   "id": "9ac709a4",
   "metadata": {},
   "source": [
    "The code returns Boolean Values which indicate the presence of Outliers in our dataset. According to our set conditions, if the value comes out as *False* it is valid and we keep it. If the value is *True* then it is an Outlier. Since our dataset does in fact contain outliers, we can now proceed to remove them:"
   ]
  },
  {
   "cell_type": "code",
   "execution_count": 15,
   "id": "d959aab5",
   "metadata": {},
   "outputs": [
    {
     "data": {
      "text/plain": [
       "(2994, 17)"
      ]
     },
     "execution_count": 15,
     "metadata": {},
     "output_type": "execute_result"
    }
   ],
   "source": [
    "df_out = df[~ ((df < (Q1 - 1.5 * Inter_Quartile_Range)) | (df > (Q3 + 1.5 * Inter_Quartile_Range))).any(axis=1)]\n",
    "df_out.shape"
   ]
  },
  {
   "cell_type": "markdown",
   "id": "497984d3",
   "metadata": {},
   "source": [
    "Our data no longer contains Outliers."
   ]
  },
  {
   "cell_type": "markdown",
   "id": "b166cbfe",
   "metadata": {},
   "source": [
    "### Treating Missing Values"
   ]
  },
  {
   "cell_type": "markdown",
   "id": "d7b93869",
   "metadata": {},
   "source": [
    "In order to treat missing values we need to first find them. This can be done with the use of *isnull function*. We can also add all of the missing values for each column of the dataframe:"
   ]
  },
  {
   "cell_type": "code",
   "execution_count": 16,
   "id": "6aab57b6",
   "metadata": {},
   "outputs": [
    {
     "data": {
      "text/plain": [
       "BALANCE                              0\n",
       "BALANCE_FREQUENCY                    0\n",
       "PURCHASES                            0\n",
       "ONEOFF_PURCHASES                     0\n",
       "INSTALLMENTS_PURCHASES               0\n",
       "CASH_ADVANCE                         0\n",
       "PURCHASES_FREQUENCY                  0\n",
       "ONEOFF_PURCHASES_FREQUENCY           0\n",
       "PURCHASES_INSTALLMENTS_FREQUENCY     0\n",
       "CASH_ADVANCE_FREQUENCY               0\n",
       "CASH_ADVANCE_TRX                     0\n",
       "PURCHASES_TRX                        0\n",
       "CREDIT_LIMIT                         0\n",
       "PAYMENTS                             0\n",
       "MINIMUM_PAYMENTS                    49\n",
       "PRC_FULL_PAYMENT                     0\n",
       "TENURE                               0\n",
       "dtype: int64"
      ]
     },
     "execution_count": 16,
     "metadata": {},
     "output_type": "execute_result"
    }
   ],
   "source": [
    "df_out.isnull().sum()"
   ]
  },
  {
   "cell_type": "markdown",
   "id": "227d1538",
   "metadata": {},
   "source": [
    "We can see that there are 49 missing values for the Minimum_Payments Column. For the missing values in this column we can use the mean average of other values inplace of missing values:"
   ]
  },
  {
   "cell_type": "code",
   "execution_count": 17,
   "id": "960c5f97",
   "metadata": {},
   "outputs": [
    {
     "name": "stderr",
     "output_type": "stream",
     "text": [
      "C:\\Users\\saima\\AppData\\Local\\Programs\\Python\\Python310\\lib\\site-packages\\pandas\\core\\generic.py:6392: SettingWithCopyWarning: \n",
      "A value is trying to be set on a copy of a slice from a DataFrame\n",
      "\n",
      "See the caveats in the documentation: https://pandas.pydata.org/pandas-docs/stable/user_guide/indexing.html#returning-a-view-versus-a-copy\n",
      "  return self._update_inplace(result)\n"
     ]
    }
   ],
   "source": [
    "df_out['MINIMUM_PAYMENTS'].fillna(df_out['MINIMUM_PAYMENTS'].mean(),inplace=True)\n"
   ]
  },
  {
   "cell_type": "code",
   "execution_count": 18,
   "id": "0cfa392d",
   "metadata": {},
   "outputs": [
    {
     "data": {
      "text/plain": [
       "BALANCE                             0\n",
       "BALANCE_FREQUENCY                   0\n",
       "PURCHASES                           0\n",
       "ONEOFF_PURCHASES                    0\n",
       "INSTALLMENTS_PURCHASES              0\n",
       "CASH_ADVANCE                        0\n",
       "PURCHASES_FREQUENCY                 0\n",
       "ONEOFF_PURCHASES_FREQUENCY          0\n",
       "PURCHASES_INSTALLMENTS_FREQUENCY    0\n",
       "CASH_ADVANCE_FREQUENCY              0\n",
       "CASH_ADVANCE_TRX                    0\n",
       "PURCHASES_TRX                       0\n",
       "CREDIT_LIMIT                        0\n",
       "PAYMENTS                            0\n",
       "MINIMUM_PAYMENTS                    0\n",
       "PRC_FULL_PAYMENT                    0\n",
       "TENURE                              0\n",
       "dtype: int64"
      ]
     },
     "execution_count": 18,
     "metadata": {},
     "output_type": "execute_result"
    }
   ],
   "source": [
    "df_out.isnull().sum()"
   ]
  },
  {
   "cell_type": "markdown",
   "id": "9eb39950",
   "metadata": {},
   "source": [
    "After checking for the missing values again we can see that no column contains missing values."
   ]
  },
  {
   "cell_type": "markdown",
   "id": "93c42e3c",
   "metadata": {},
   "source": [
    "### Scaling"
   ]
  },
  {
   "cell_type": "markdown",
   "id": "554c408a",
   "metadata": {},
   "source": [
    "As we will be performing *K-Means* clustering on *Balance* to *Credit Limit* columns, we can assign these to a variable: "
   ]
  },
  {
   "cell_type": "code",
   "execution_count": 19,
   "id": "b7282618",
   "metadata": {},
   "outputs": [],
   "source": [
    "X = df_out[[\"BALANCE\", \"CREDIT_LIMIT\"]]"
   ]
  },
  {
   "cell_type": "markdown",
   "id": "4900cf44",
   "metadata": {},
   "source": [
    "We can now scale this Variable for our Clustering: "
   ]
  },
  {
   "cell_type": "code",
   "execution_count": 20,
   "id": "a3deb39f",
   "metadata": {},
   "outputs": [
    {
     "name": "stdout",
     "output_type": "stream",
     "text": [
      "[[-1.13359969 -0.90479325]\n",
      " [-0.37630323 -0.82224017]\n",
      " [ 0.60436139 -0.36819827]\n",
      " ...\n",
      " [-1.15745725 -0.90479325]\n",
      " [-1.1077884  -0.90479325]\n",
      " [-0.87406153 -0.90479325]]\n"
     ]
    }
   ],
   "source": [
    "scaler = StandardScaler()\n",
    "X_transf = scaler.fit_transform(X)# scaling Balance and Credit Limit\n",
    "print (X_transf)"
   ]
  },
  {
   "cell_type": "markdown",
   "id": "79c5ad80",
   "metadata": {},
   "source": [
    "\n"
   ]
  },
  {
   "cell_type": "markdown",
   "id": "6007c0b9",
   "metadata": {},
   "source": [
    "## K-Means Clusering"
   ]
  },
  {
   "cell_type": "markdown",
   "id": "7217e8b7",
   "metadata": {},
   "source": [
    "### Finding Optimal *K* value"
   ]
  },
  {
   "cell_type": "markdown",
   "id": "01b263b1",
   "metadata": {},
   "source": [
    "<img src=\"https://user-images.githubusercontent.com/43498633/47416534-9cb8ad80-d77e-11e8-86e0-b60de912043e.gif\" width=\"300\" height=\"auto\" style=\"border:50%\">\n",
    "\n",
    "Before applyling K-Means Clustering algorithm to our dataset let us first understand how it works and what it is supposed to do. In simple terms, *K-Means* is a method that aims to partition our observations into a set amount of clusters in which each of our observations belongs to the cluster with the nearest cluster center( i.e. cluster *centroid*).Upon first iteration these clusters will be set randomly. On the second iteration we adjust the location of centroids by finding the mean of every cluster.This process is repeated until the variance is minimised and the centroids are no longer moving. The algorithm choses the centroids with the lowest total variance. \n"
   ]
  },
  {
   "cell_type": "markdown",
   "id": "a2b93fec",
   "metadata": {},
   "source": [
    "The problem we are faced when creating clusters is that we are not told exactly how many clusters are there. Theoretically speaking if we would have an equal number of clusters to the number of observations the distance between datapoints to cluster centers would be minimal. Nonetheless, in this case we would not have any meaningful clusters and our problem would be unresolved.For that reason we can utilise the *Elbow Method* to find the optimal number of clusters (i.e. *K*)."
   ]
  },
  {
   "cell_type": "code",
   "execution_count": 21,
   "id": "2ececa67",
   "metadata": {
    "scrolled": true
   },
   "outputs": [
    {
     "data": {
      "text/plain": [
       "Text(0.5, 0, 'K Value')"
      ]
     },
     "execution_count": 21,
     "metadata": {},
     "output_type": "execute_result"
    },
    {
     "data": {
      "image/png": "[encoded data removed]",
      "text/plain": [
       "<Figure size 432x288 with 1 Axes>"
      ]
     },
     "metadata": {
      "needs_background": "light"
     },
     "output_type": "display_data"
    }
   ],
   "source": [
    "scores = []\n",
    "\n",
    "range_values=range(1,20)\n",
    "for i in range_values:\n",
    "    kmean=KMeans(n_clusters=i)\n",
    "    kmean.fit(X_transf)\n",
    "    scores.append(kmean.inertia_)\n",
    "    \n",
    "plt.plot(scores,'bx-')\n",
    "plt.title(\"Optimizing K-value by Total Varience\")\n",
    "plt.ylabel(\"Total Variance\")\n",
    "plt.xlabel(\"K Value\")"
   ]
  },
  {
   "cell_type": "markdown",
   "id": "a0945fc8",
   "metadata": {},
   "source": [
    "From the graph above we can see that with each run the total variance is minimised until it hits a plateau. Our optimal *K* value lies at the point where total variance is minimal but does not reach zero which is the elbow of the curve. In the current example the elbow of the curve is approximately between 7 and 7.5. For my K-Means Clustering algorithm I will chose a *K* value of 7."
   ]
  },
  {
   "cell_type": "markdown",
   "id": "09356feb",
   "metadata": {},
   "source": [
    "### K-Means applied"
   ]
  },
  {
   "cell_type": "markdown",
   "id": "c9d0fbc0",
   "metadata": {},
   "source": [
    "In this section I will apply our ptimal *K* value and create our clusters:"
   ]
  },
  {
   "cell_type": "code",
   "execution_count": 22,
   "id": "fb29dc97",
   "metadata": {},
   "outputs": [
    {
     "data": {
      "text/plain": [
       "KMeans(n_clusters=7)"
      ]
     },
     "execution_count": 22,
     "metadata": {},
     "output_type": "execute_result"
    }
   ],
   "source": [
    "model = KMeans(n_clusters = 7)\n",
    "model.fit(X_transf)#of the scaled data"
   ]
  },
  {
   "cell_type": "code",
   "execution_count": 23,
   "id": "4a39b3bc",
   "metadata": {},
   "outputs": [
    {
     "name": "stdout",
     "output_type": "stream",
     "text": [
      "2994\n"
     ]
    }
   ],
   "source": [
    "labels = model.labels_#labels for the clusters to which our data belongs\n",
    "\n",
    "print(len(labels))"
   ]
  },
  {
   "cell_type": "code",
   "execution_count": 24,
   "id": "e43cf146",
   "metadata": {},
   "outputs": [
    {
     "name": "stdout",
     "output_type": "stream",
     "text": [
      "[[2052.63225102 6758.57988166]\n",
      " [1240.69935999 1728.26086957]\n",
      " [ 423.77722553 5019.88964792]\n",
      " [ 297.93715576 1692.85714286]\n",
      " [3921.45341922 7280.25477707]\n",
      " [ 548.75986482 9164.55223881]\n",
      " [2448.49438775 3227.23577236]]\n"
     ]
    }
   ],
   "source": [
    "centroids = model.cluster_centers_# finding centroids\n",
    "centroids_transformed = scaler.inverse_transform(centroids)\n",
    "print(scaler.inverse_transform(centroids))"
   ]
  },
  {
   "cell_type": "code",
   "execution_count": 25,
   "id": "b73ac757",
   "metadata": {},
   "outputs": [
    {
     "data": {
      "image/png": "[encoded data removed]",
      "text/plain": [
       "<Figure size 1152x864 with 1 Axes>"
      ]
     },
     "metadata": {
      "needs_background": "light"
     },
     "output_type": "display_data"
    }
   ],
   "source": [
    "plt.figure(figsize = (16, 12))# visualising our clusters\n",
    "plt.title(\"Clusters of customers based on the Balance to Credit Limit Ratio\", fontsize = 20)\n",
    "plt.scatter(df_out[\"BALANCE\"], df_out[\"CREDIT_LIMIT\"], c = labels)\n",
    "\n",
    "plt.scatter(centroids_transformed[:, 0], centroids_transformed[:, 1], c = \"red\", marker = \"X\")\n",
    "\n",
    "# add labels to each cluster\n",
    "label = 1\n",
    "\n",
    "for i in range(len(centroids_transformed[:, 0])):\n",
    "    plt.text(centroids_transformed[i, 0],centroids_transformed[i, 1],label,fontsize=35,color=\"red\",weight=\"bold\")\n",
    "    label += 1\n",
    "\n",
    "\n",
    "plt.xlabel(\"Balance\", fontsize = 16)\n",
    "plt.ylabel(\"Credit Limit\", fontsize = 16)\n",
    "plt.show()"
   ]
  },
  {
   "cell_type": "markdown",
   "id": "71c3650e",
   "metadata": {},
   "source": [
    "We have successfully managed to create our clusters of customers using a K-Means algorithm. Above is the visual representation for our clusters."
   ]
  },
  {
   "cell_type": "markdown",
   "id": "5600b977",
   "metadata": {},
   "source": [
    "**Conclusion:** \n",
    "\n",
    "We can use our customer segmentation above to inform and email marketing campaign. Below are the suggestions for the type of outreach each cluster of customers should receive:\n",
    "\n",
    "* For clusters **1** and **5** Run a check if they are qualified for a higher credit limit. Bring to their attention that higher credit limit can lower credit utilization, potentially boosting credit score and provides additional emergency fund safety net. Customers in Cluster **1** that lean towards the higher balance may be cautioned that if increased credit limit encourages spending outside of their budget, the benefits of having a higher limit could be outweighed by unmanaged debt.\n",
    "\n",
    "* For cluster **2** send help to newer customers to encourage the usage of their credit cards(assuming that they are new give the lowest balance and credit scores from the overall group).Perhaps suggest an appointment where they can receive advice on how to use their credit cards more effectively. \n",
    "\n",
    "* For Clusters **3** and **6** the credit limit to credit balance ratio is high. These customers would have a high credit score and thus you could suggest some additional rewards to nurture the relationship with these customers. Customers in cluster 3 in particular can qualify for higher rewards. \n",
    "\n",
    "* Customers in cluster **7** are well within their credit limit and their balance does not exceed it. These customers have potential to move into cluster **3** and **6** which is the desired area for the business.\n",
    "\n",
    "* The customers in the remaining cluster **4** have relatively high balances compared to their credit limits with some of them even exceeding their limit. These customers should be encouraged to work on ways of improving their credit score and paying off their balance.\n"
   ]
  }
 ],
 "metadata": {
  "kernelspec": {
   "display_name": "Python 3 (ipykernel)",
   "language": "python",
   "name": "python3"
  },
  "language_info": {
   "codemirror_mode": {
    "name": "ipython",
    "version": 3
   },
   "file_extension": ".py",
   "mimetype": "text/x-python",
   "name": "python",
   "nbconvert_exporter": "python",
   "pygments_lexer": "ipython3",
   "version": "3.10.0"
  }
 },
 "nbformat": 4,
 "nbformat_minor": 5
}
